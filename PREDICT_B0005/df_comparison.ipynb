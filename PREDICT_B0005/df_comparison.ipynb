{
 "cells": [
  {
   "cell_type": "code",
   "execution_count": 2,
   "metadata": {},
   "outputs": [],
   "source": [
    "import matplotlib\n",
    "import matplotlib.pyplot as plt\n",
    "import numpy as np\n",
    "import pandas as pd"
   ]
  },
  {
   "cell_type": "code",
   "execution_count": 3,
   "metadata": {},
   "outputs": [],
   "source": [
    "real = pd.read_csv(\"../DATA/DataFrame/B0005_capacity_df.csv\")\n",
    "MC_LSTM = pd.read_csv(\"./MC_LSTM.csv\")\n",
    "MC_AttentionLSTM = pd.read_csv(\"./MC_AttentionLSTM.csv\")\n",
    "MC_1MAttn = pd.read_csv(\"./MC_1MAttn.csv\")\n",
    "MC_PE_1MAttn = pd.read_csv(\"./MC_PE_1MAttn.csv\")\n",
    "MC_2MAttn = pd.read_csv(\"./MC_2MAttn.csv\")\n",
    "MC_PE_2MAttn = pd.read_csv(\"./MC_PE_2MAttn.csv\")"
   ]
  },
  {
   "cell_type": "markdown",
   "metadata": {},
   "source": [
    "### B0005 RMSE  MAPE  사용 파라미터 수 비교"
   ]
  },
  {
   "cell_type": "code",
   "execution_count": 6,
   "metadata": {},
   "outputs": [],
   "source": [
    "from sklearn.metrics import mean_squared_error\n",
    "from sklearn.metrics import mean_absolute_percentage_error\n",
    "def smape(A, F):\n",
    "    return 100/len(A) * np.sum(2 * np.abs(F - A) / (np.abs(A) + np.abs(F)))\n",
    "\n",
    "compare_view = pd.DataFrame(columns=['Name','MAPE(%)','파라미터 수'])\n",
    "\n",
    "all_models_predicts = [MC_LSTM, MC_AttentionLSTM, MC_PE_2MAttn,MC_2MAttn]\n",
    "model_names = ['LSTM(Ref)', 'Attention+LSTM(Ref)', 'PE_2*Multi_Head_Attn(제안)', '2*Multi_Head_Attn']\n",
    "model_params = [7471, 11197,5167, 5167]\n",
    "\n",
    "for name, params, model in zip(model_names, model_params,all_models_predicts): \n",
    "    # RMSE = np.round(mean_squared_error(real.values.reshape(-1), model.values.reshape(-1)) ** 0.5, 5)\n",
    "    MAPE = np.round(mean_absolute_percentage_error(real.values.reshape(-1), model.values.reshape(-1)) * 100, 3)\n",
    "    # SMAPE = np.round(smape(real.values.reshape(-1), model.values.reshape(-1)), 3)\n",
    "    \n",
    "    row = pd.DataFrame([[name, MAPE, params]], columns=['Name', 'MAPE(%)', '파라미터 수'])\n",
    "\n",
    "    compare_view = pd.concat([compare_view, row], axis=0)\n"
   ]
  },
  {
   "cell_type": "code",
   "execution_count": 7,
   "metadata": {},
   "outputs": [
    {
     "name": "stdout",
     "output_type": "stream",
     "text": [
      "130\n",
      "128\n",
      "117\n",
      "128\n"
     ]
    },
    {
     "data": {
      "text/plain": [
       "0    6\n",
       "1    4\n",
       "2   -7\n",
       "3    4\n",
       "Name: EoL Cycle from baseline(real = 124), dtype: int64"
      ]
     },
     "execution_count": 7,
     "metadata": {},
     "output_type": "execute_result"
    }
   ],
   "source": [
    "# EoL(cycle) 예측\n",
    "\n",
    "EoL_diff_list = []\n",
    "\n",
    "real_EoL_cycle = 0\n",
    "for cap in real.values.reshape(-1):\n",
    "    real_EoL_cycle += 1\n",
    "    if cap <= 1.4:\n",
    "        break\n",
    "\n",
    "for model in all_models_predicts:\n",
    "    EoL_cycle = 0\n",
    "    for cap in model.values.reshape(-1):\n",
    "        EoL_cycle += 1\n",
    "\n",
    "        if cap <= 1.4:\n",
    "            break\n",
    "    print(EoL_cycle)\n",
    "    EoL_diff_list.append(EoL_cycle - real_EoL_cycle)\n",
    "\n",
    "EoL_diff_Series = pd.Series(EoL_diff_list,name=\"EoL Cycle from baseline(real = 124)\", dtype=int)\n",
    "EoL_diff_Series"
   ]
  },
  {
   "cell_type": "code",
   "execution_count": 8,
   "metadata": {},
   "outputs": [
    {
     "data": {
      "text/html": [
       "<div>\n",
       "<style scoped>\n",
       "    .dataframe tbody tr th:only-of-type {\n",
       "        vertical-align: middle;\n",
       "    }\n",
       "\n",
       "    .dataframe tbody tr th {\n",
       "        vertical-align: top;\n",
       "    }\n",
       "\n",
       "    .dataframe thead th {\n",
       "        text-align: right;\n",
       "    }\n",
       "</style>\n",
       "<table border=\"1\" class=\"dataframe\">\n",
       "  <thead>\n",
       "    <tr style=\"text-align: right;\">\n",
       "      <th></th>\n",
       "      <th>MAPE(%)</th>\n",
       "      <th>파라미터 수</th>\n",
       "      <th>EoL Cycle diff(real = 124)</th>\n",
       "    </tr>\n",
       "    <tr>\n",
       "      <th>Name</th>\n",
       "      <th></th>\n",
       "      <th></th>\n",
       "      <th></th>\n",
       "    </tr>\n",
       "  </thead>\n",
       "  <tbody>\n",
       "    <tr>\n",
       "      <th>LSTM(Ref)</th>\n",
       "      <td>2.056</td>\n",
       "      <td>7471</td>\n",
       "      <td>6</td>\n",
       "    </tr>\n",
       "    <tr>\n",
       "      <th>Attention+LSTM(Ref)</th>\n",
       "      <td>2.183</td>\n",
       "      <td>11197</td>\n",
       "      <td>4</td>\n",
       "    </tr>\n",
       "    <tr>\n",
       "      <th>PE_2*Multi_Head_Attn(제안)</th>\n",
       "      <td>1.252</td>\n",
       "      <td>5167</td>\n",
       "      <td>-7</td>\n",
       "    </tr>\n",
       "    <tr>\n",
       "      <th>2*Multi_Head_Attn</th>\n",
       "      <td>2.291</td>\n",
       "      <td>5167</td>\n",
       "      <td>4</td>\n",
       "    </tr>\n",
       "  </tbody>\n",
       "</table>\n",
       "</div>"
      ],
      "text/plain": [
       "                          MAPE(%) 파라미터 수  EoL Cycle diff(real = 124)\n",
       "Name                                                                \n",
       "LSTM(Ref)                   2.056   7471                           6\n",
       "Attention+LSTM(Ref)         2.183  11197                           4\n",
       "PE_2*Multi_Head_Attn(제안)    1.252   5167                          -7\n",
       "2*Multi_Head_Attn           2.291   5167                           4"
      ]
     },
     "execution_count": 8,
     "metadata": {},
     "output_type": "execute_result"
    }
   ],
   "source": [
    "compare_view['EoL Cycle diff(real = 124)'] = EoL_diff_list\n",
    "compare_view.set_index(\"Name\")"
   ]
  },
  {
   "cell_type": "markdown",
   "metadata": {},
   "source": [
    "### B0006 RMSE  MAPE  사용 파라미터 수 비교"
   ]
  },
  {
   "cell_type": "code",
   "execution_count": 9,
   "metadata": {},
   "outputs": [
    {
     "name": "stdout",
     "output_type": "stream",
     "text": [
      "110\n",
      "140\n",
      "106\n",
      "111\n"
     ]
    },
    {
     "data": {
      "text/plain": [
       "0     2\n",
       "1    32\n",
       "2    -2\n",
       "3     3\n",
       "Name: EoL Cycle from baseline(real = 108), dtype: int64"
      ]
     },
     "execution_count": 9,
     "metadata": {},
     "output_type": "execute_result"
    }
   ],
   "source": [
    "from sklearn.metrics import mean_squared_error\n",
    "from sklearn.metrics import mean_absolute_percentage_error\n",
    "\n",
    "real = pd.read_csv(\"../DATA/DataFrame/B0006_capacity_df.csv\")\n",
    "MC_LSTM = pd.read_csv(\"../Train_Other_MCModels/PREDICT_B0006/MC_LSTM.csv\")\n",
    "MC_AttentionLSTM = pd.read_csv(\"../Train_Other_MCModels/PREDICT_B0006/MC_AttentionLSTM.csv\")\n",
    "MC_1MAttn = pd.read_csv(\"../Train_Other_MCModels/PREDICT_B0006/MC_1MAttn.csv\")\n",
    "MC_PE_1MAttn = pd.read_csv(\"../Train_Other_MCModels/PREDICT_B0006/MC_PE_1MAttn.csv\")\n",
    "MC_2MAttn = pd.read_csv(\"../Train_Other_MCModels/PREDICT_B0006/MC_2MAttn.csv\")\n",
    "MC_PE_2MAttn = pd.read_csv(\"../Train_Other_MCModels/PREDICT_B0006/MC_PE_2MAttn.csv\")\n",
    "\n",
    "def smape(A, F):\n",
    "    return 100/len(A) * np.sum(2 * np.abs(F - A) / (np.abs(A) + np.abs(F)))\n",
    "\n",
    "compare_view = pd.DataFrame(columns=['Name','MAPE(%)','파라미터 수'])\n",
    "\n",
    "all_models_predicts = [MC_LSTM, MC_AttentionLSTM, MC_PE_2MAttn,MC_2MAttn]\n",
    "model_names = ['LSTM(Ref)', 'Attention+LSTM(Ref)', 'PE_2*Multi_Head_Attn(제안)', '2*Multi_Head_Attn']\n",
    "model_params = [7471, 11197,5167, 5167]\n",
    "\n",
    "for name, params, model in zip(model_names, model_params,all_models_predicts): \n",
    "    # RMSE = np.round(mean_squared_error(real.values.reshape(-1), model.values.reshape(-1)) ** 0.5, 5)\n",
    "    MAPE = np.round(mean_absolute_percentage_error(real.values.reshape(-1), model.values.reshape(-1)) * 100, 3)\n",
    "    # SMAPE = np.round(smape(real.values.reshape(-1), model.values.reshape(-1)), 3)\n",
    "    \n",
    "    row = pd.DataFrame([[name, MAPE, params]], columns=['Name', 'MAPE(%)', '파라미터 수'])\n",
    "\n",
    "    compare_view = pd.concat([compare_view, row], axis=0)\n",
    "\n",
    "\n",
    "\n",
    "# EoL(cycle) 예측\n",
    "EoL_diff_list = []\n",
    "\n",
    "real_EoL_cycle = 0\n",
    "for cap in real.values.reshape(-1):\n",
    "    real_EoL_cycle += 1\n",
    "    if cap <= 1.4:\n",
    "        break\n",
    "\n",
    "for model in all_models_predicts:\n",
    "    EoL_cycle = 0\n",
    "    for cap in model.values.reshape(-1):\n",
    "        EoL_cycle += 1\n",
    "\n",
    "        if cap <= 1.4:\n",
    "            break\n",
    "    print(EoL_cycle)\n",
    "    EoL_diff_list.append(EoL_cycle - real_EoL_cycle)\n",
    "\n",
    "EoL_diff_Series = pd.Series(EoL_diff_list,name=\"EoL Cycle from baseline(real = 108)\", dtype=int)\n",
    "EoL_diff_Series\n"
   ]
  },
  {
   "cell_type": "code",
   "execution_count": 10,
   "metadata": {},
   "outputs": [
    {
     "data": {
      "text/html": [
       "<div>\n",
       "<style scoped>\n",
       "    .dataframe tbody tr th:only-of-type {\n",
       "        vertical-align: middle;\n",
       "    }\n",
       "\n",
       "    .dataframe tbody tr th {\n",
       "        vertical-align: top;\n",
       "    }\n",
       "\n",
       "    .dataframe thead th {\n",
       "        text-align: right;\n",
       "    }\n",
       "</style>\n",
       "<table border=\"1\" class=\"dataframe\">\n",
       "  <thead>\n",
       "    <tr style=\"text-align: right;\">\n",
       "      <th></th>\n",
       "      <th>MAPE(%)</th>\n",
       "      <th>파라미터 수</th>\n",
       "      <th>EoL Cycle diff(real = 108)</th>\n",
       "    </tr>\n",
       "    <tr>\n",
       "      <th>Name</th>\n",
       "      <th></th>\n",
       "      <th></th>\n",
       "      <th></th>\n",
       "    </tr>\n",
       "  </thead>\n",
       "  <tbody>\n",
       "    <tr>\n",
       "      <th>LSTM(Ref)</th>\n",
       "      <td>4.024</td>\n",
       "      <td>7471</td>\n",
       "      <td>2</td>\n",
       "    </tr>\n",
       "    <tr>\n",
       "      <th>Attention+LSTM(Ref)</th>\n",
       "      <td>4.683</td>\n",
       "      <td>11197</td>\n",
       "      <td>32</td>\n",
       "    </tr>\n",
       "    <tr>\n",
       "      <th>PE_2*Multi_Head_Attn(제안)</th>\n",
       "      <td>2.831</td>\n",
       "      <td>5167</td>\n",
       "      <td>-2</td>\n",
       "    </tr>\n",
       "    <tr>\n",
       "      <th>2*Multi_Head_Attn</th>\n",
       "      <td>3.595</td>\n",
       "      <td>5167</td>\n",
       "      <td>3</td>\n",
       "    </tr>\n",
       "  </tbody>\n",
       "</table>\n",
       "</div>"
      ],
      "text/plain": [
       "                          MAPE(%) 파라미터 수  EoL Cycle diff(real = 108)\n",
       "Name                                                                \n",
       "LSTM(Ref)                   4.024   7471                           2\n",
       "Attention+LSTM(Ref)         4.683  11197                          32\n",
       "PE_2*Multi_Head_Attn(제안)    2.831   5167                          -2\n",
       "2*Multi_Head_Attn           3.595   5167                           3"
      ]
     },
     "execution_count": 10,
     "metadata": {},
     "output_type": "execute_result"
    }
   ],
   "source": [
    "compare_view['EoL Cycle diff(real = 108)'] = EoL_diff_list\n",
    "compare_view.set_index(\"Name\")"
   ]
  },
  {
   "cell_type": "markdown",
   "metadata": {},
   "source": [
    "### B0007 RMSE  MAPE  사용 파라미터 수 비교"
   ]
  },
  {
   "cell_type": "code",
   "execution_count": 11,
   "metadata": {},
   "outputs": [
    {
     "name": "stdout",
     "output_type": "stream",
     "text": [
      "167\n",
      "167\n",
      "167\n",
      "167\n"
     ]
    },
    {
     "data": {
      "text/plain": [
       "0    0\n",
       "1    0\n",
       "2    0\n",
       "3    0\n",
       "Name: EoL Cycle from baseline(real = None), dtype: int64"
      ]
     },
     "execution_count": 11,
     "metadata": {},
     "output_type": "execute_result"
    }
   ],
   "source": [
    "from sklearn.metrics import mean_squared_error\n",
    "from sklearn.metrics import mean_absolute_percentage_error\n",
    "\n",
    "real = pd.read_csv(\"../DATA/DataFrame/B0007_capacity_df.csv\")\n",
    "MC_LSTM = pd.read_csv(\"../Train_Other_MCModels/PREDICT_B0007/MC_LSTM.csv\")\n",
    "MC_AttentionLSTM = pd.read_csv(\"../Train_Other_MCModels/PREDICT_B0007/MC_AttentionLSTM.csv\")\n",
    "MC_1MAttn = pd.read_csv(\"../Train_Other_MCModels/PREDICT_B0007/MC_1MAttn.csv\")\n",
    "MC_PE_1MAttn = pd.read_csv(\"../Train_Other_MCModels/PREDICT_B0007/MC_PE_1MAttn.csv\")\n",
    "MC_2MAttn = pd.read_csv(\"../Train_Other_MCModels/PREDICT_B0007/MC_2MAttn.csv\")\n",
    "MC_PE_2MAttn = pd.read_csv(\"../Train_Other_MCModels/PREDICT_B0007/MC_PE_2MAttn.csv\")\n",
    "\n",
    "def smape(A, F):\n",
    "    return 100/len(A) * np.sum(2 * np.abs(F - A) / (np.abs(A) + np.abs(F)))\n",
    "\n",
    "compare_view = pd.DataFrame(columns=['Name','MAPE(%)','파라미터 수'])\n",
    "\n",
    "all_models_predicts = [MC_LSTM, MC_AttentionLSTM, MC_PE_2MAttn,MC_2MAttn]\n",
    "model_names = ['LSTM(Ref)', 'Attention+LSTM(Ref)', 'PE_2*Multi_Head_Attn(제안)', '2*Multi_Head_Attn']\n",
    "model_params = [7471, 11197,5167, 5167]\n",
    "\n",
    "for name, params, model in zip(model_names, model_params,all_models_predicts): \n",
    "    # RMSE = np.round(mean_squared_error(real.values.reshape(-1), model.values.reshape(-1)) ** 0.5, 5)\n",
    "    MAPE = np.round(mean_absolute_percentage_error(real.values.reshape(-1), model.values.reshape(-1)) * 100, 3)\n",
    "    # SMAPE = np.round(smape(real.values.reshape(-1), model.values.reshape(-1)), 3)\n",
    "    \n",
    "    row = pd.DataFrame([[name, MAPE, params]], columns=['Name', 'MAPE(%)', '파라미터 수'])\n",
    "\n",
    "    compare_view = pd.concat([compare_view, row], axis=0)\n",
    "\n",
    "\n",
    "\n",
    "# EoL(cycle) 예측\n",
    "EoL_diff_list = []\n",
    "\n",
    "real_EoL_cycle = 0\n",
    "for cap in real.values.reshape(-1):\n",
    "    real_EoL_cycle += 1\n",
    "    if cap <= 1.4:\n",
    "        break\n",
    "\n",
    "for model in all_models_predicts:\n",
    "    EoL_cycle = 0\n",
    "    for cap in model.values.reshape(-1):\n",
    "        EoL_cycle += 1\n",
    "\n",
    "        if cap <= 1.4:\n",
    "            break\n",
    "    print(EoL_cycle)\n",
    "    EoL_diff_list.append(EoL_cycle - real_EoL_cycle)\n",
    "\n",
    "EoL_diff_Series = pd.Series(EoL_diff_list,name=\"EoL Cycle from baseline(real = None)\", dtype=int)\n",
    "EoL_diff_Series\n"
   ]
  },
  {
   "cell_type": "code",
   "execution_count": 12,
   "metadata": {},
   "outputs": [
    {
     "data": {
      "text/html": [
       "<div>\n",
       "<style scoped>\n",
       "    .dataframe tbody tr th:only-of-type {\n",
       "        vertical-align: middle;\n",
       "    }\n",
       "\n",
       "    .dataframe tbody tr th {\n",
       "        vertical-align: top;\n",
       "    }\n",
       "\n",
       "    .dataframe thead th {\n",
       "        text-align: right;\n",
       "    }\n",
       "</style>\n",
       "<table border=\"1\" class=\"dataframe\">\n",
       "  <thead>\n",
       "    <tr style=\"text-align: right;\">\n",
       "      <th></th>\n",
       "      <th>MAPE(%)</th>\n",
       "      <th>파라미터 수</th>\n",
       "      <th>EoL Cycle diff(real = None)</th>\n",
       "    </tr>\n",
       "    <tr>\n",
       "      <th>Name</th>\n",
       "      <th></th>\n",
       "      <th></th>\n",
       "      <th></th>\n",
       "    </tr>\n",
       "  </thead>\n",
       "  <tbody>\n",
       "    <tr>\n",
       "      <th>LSTM(Ref)</th>\n",
       "      <td>1.403</td>\n",
       "      <td>7471</td>\n",
       "      <td>0</td>\n",
       "    </tr>\n",
       "    <tr>\n",
       "      <th>Attention+LSTM(Ref)</th>\n",
       "      <td>4.298</td>\n",
       "      <td>11197</td>\n",
       "      <td>0</td>\n",
       "    </tr>\n",
       "    <tr>\n",
       "      <th>PE_2*Multi_Head_Attn(제안)</th>\n",
       "      <td>1.405</td>\n",
       "      <td>5167</td>\n",
       "      <td>0</td>\n",
       "    </tr>\n",
       "    <tr>\n",
       "      <th>2*Multi_Head_Attn</th>\n",
       "      <td>2.459</td>\n",
       "      <td>5167</td>\n",
       "      <td>0</td>\n",
       "    </tr>\n",
       "  </tbody>\n",
       "</table>\n",
       "</div>"
      ],
      "text/plain": [
       "                          MAPE(%) 파라미터 수  EoL Cycle diff(real = None)\n",
       "Name                                                                 \n",
       "LSTM(Ref)                   1.403   7471                            0\n",
       "Attention+LSTM(Ref)         4.298  11197                            0\n",
       "PE_2*Multi_Head_Attn(제안)    1.405   5167                            0\n",
       "2*Multi_Head_Attn           2.459   5167                            0"
      ]
     },
     "execution_count": 12,
     "metadata": {},
     "output_type": "execute_result"
    }
   ],
   "source": [
    "compare_view['EoL Cycle diff(real = None)'] = EoL_diff_list\n",
    "compare_view.set_index(\"Name\")"
   ]
  },
  {
   "cell_type": "markdown",
   "metadata": {},
   "source": [
    "### B0018 RMSE  MAPE  사용 파라미터 수 비교"
   ]
  },
  {
   "cell_type": "code",
   "execution_count": 13,
   "metadata": {},
   "outputs": [
    {
     "name": "stdout",
     "output_type": "stream",
     "text": [
      "81\n",
      "96\n",
      "98\n",
      "131\n"
     ]
    },
    {
     "data": {
      "text/plain": [
       "0   -15\n",
       "1     0\n",
       "2     2\n",
       "3    35\n",
       "Name: EoL Cycle from baseline(real = 124), dtype: int64"
      ]
     },
     "execution_count": 13,
     "metadata": {},
     "output_type": "execute_result"
    }
   ],
   "source": [
    "from sklearn.metrics import mean_squared_error\n",
    "from sklearn.metrics import mean_absolute_percentage_error\n",
    "\n",
    "real = pd.read_csv(\"../DATA/DataFrame/B0018_capacity_df.csv\")\n",
    "MC_LSTM = pd.read_csv(\"../Train_Other_MCModels/PREDICT_B0018/MC_LSTM.csv\")\n",
    "MC_AttentionLSTM = pd.read_csv(\"../Train_Other_MCModels/PREDICT_B0018/MC_AttentionLSTM.csv\")\n",
    "MC_1MAttn = pd.read_csv(\"../Train_Other_MCModels/PREDICT_B0018/MC_1MAttn.csv\")\n",
    "MC_PE_1MAttn = pd.read_csv(\"../Train_Other_MCModels/PREDICT_B0018/MC_PE_1MAttn.csv\")\n",
    "MC_2MAttn = pd.read_csv(\"../Train_Other_MCModels/PREDICT_B0018/MC_2MAttn.csv\")\n",
    "MC_PE_2MAttn = pd.read_csv(\"../Train_Other_MCModels/PREDICT_B0018/MC_PE_2MAttn.csv\")\n",
    "\n",
    "def smape(A, F):\n",
    "    return 100/len(A) * np.sum(2 * np.abs(F - A) / (np.abs(A) + np.abs(F)))\n",
    "\n",
    "compare_view = pd.DataFrame(columns=['Name','MAPE(%)','파라미터 수'])\n",
    "\n",
    "all_models_predicts = [MC_LSTM, MC_AttentionLSTM, MC_PE_2MAttn,MC_2MAttn]\n",
    "model_names = ['LSTM(Ref)', 'Attention+LSTM(Ref)', 'PE_2*Multi_Head_Attn(제안)', '2*Multi_Head_Attn']\n",
    "model_params = [7471, 11197,5167, 5167]\n",
    "\n",
    "for name, params, model in zip(model_names, model_params,all_models_predicts): \n",
    "    # RMSE = np.round(mean_squared_error(real.values.reshape(-1), model.values.reshape(-1)) ** 0.5, 5)\n",
    "    MAPE = np.round(mean_absolute_percentage_error(real.values.reshape(-1), model.values.reshape(-1)) * 100, 3)\n",
    "    # SMAPE = np.round(smape(real.values.reshape(-1), model.values.reshape(-1)), 3)\n",
    "    \n",
    "    row = pd.DataFrame([[name, MAPE, params]], columns=['Name', 'MAPE(%)', '파라미터 수'])\n",
    "\n",
    "    compare_view = pd.concat([compare_view, row], axis=0)\n",
    "\n",
    "\n",
    "\n",
    "# EoL(cycle) 예측\n",
    "EoL_diff_list = []\n",
    "\n",
    "real_EoL_cycle = 0\n",
    "for cap in real.values.reshape(-1):\n",
    "    real_EoL_cycle += 1\n",
    "    if cap <= 1.4:\n",
    "        break\n",
    "\n",
    "for model in all_models_predicts:\n",
    "    EoL_cycle = 0\n",
    "    for cap in model.values.reshape(-1):\n",
    "        EoL_cycle += 1\n",
    "\n",
    "        if cap <= 1.4:\n",
    "            break\n",
    "    print(EoL_cycle)\n",
    "    EoL_diff_list.append(EoL_cycle - real_EoL_cycle)\n",
    "\n",
    "EoL_diff_Series = pd.Series(EoL_diff_list,name=\"EoL Cycle from baseline(real = 124)\", dtype=int)\n",
    "EoL_diff_Series\n"
   ]
  },
  {
   "cell_type": "code",
   "execution_count": 14,
   "metadata": {},
   "outputs": [
    {
     "data": {
      "text/html": [
       "<div>\n",
       "<style scoped>\n",
       "    .dataframe tbody tr th:only-of-type {\n",
       "        vertical-align: middle;\n",
       "    }\n",
       "\n",
       "    .dataframe tbody tr th {\n",
       "        vertical-align: top;\n",
       "    }\n",
       "\n",
       "    .dataframe thead th {\n",
       "        text-align: right;\n",
       "    }\n",
       "</style>\n",
       "<table border=\"1\" class=\"dataframe\">\n",
       "  <thead>\n",
       "    <tr style=\"text-align: right;\">\n",
       "      <th></th>\n",
       "      <th>MAPE(%)</th>\n",
       "      <th>파라미터 수</th>\n",
       "      <th>EoL Cycle diff(real = 124)</th>\n",
       "    </tr>\n",
       "    <tr>\n",
       "      <th>Name</th>\n",
       "      <th></th>\n",
       "      <th></th>\n",
       "      <th></th>\n",
       "    </tr>\n",
       "  </thead>\n",
       "  <tbody>\n",
       "    <tr>\n",
       "      <th>LSTM(Ref)</th>\n",
       "      <td>1.629</td>\n",
       "      <td>7471</td>\n",
       "      <td>-15</td>\n",
       "    </tr>\n",
       "    <tr>\n",
       "      <th>Attention+LSTM(Ref)</th>\n",
       "      <td>1.170</td>\n",
       "      <td>11197</td>\n",
       "      <td>0</td>\n",
       "    </tr>\n",
       "    <tr>\n",
       "      <th>PE_2*Multi_Head_Attn(제안)</th>\n",
       "      <td>1.822</td>\n",
       "      <td>5167</td>\n",
       "      <td>2</td>\n",
       "    </tr>\n",
       "    <tr>\n",
       "      <th>2*Multi_Head_Attn</th>\n",
       "      <td>4.137</td>\n",
       "      <td>5167</td>\n",
       "      <td>35</td>\n",
       "    </tr>\n",
       "  </tbody>\n",
       "</table>\n",
       "</div>"
      ],
      "text/plain": [
       "                          MAPE(%) 파라미터 수  EoL Cycle diff(real = 124)\n",
       "Name                                                                \n",
       "LSTM(Ref)                   1.629   7471                         -15\n",
       "Attention+LSTM(Ref)         1.170  11197                           0\n",
       "PE_2*Multi_Head_Attn(제안)    1.822   5167                           2\n",
       "2*Multi_Head_Attn           4.137   5167                          35"
      ]
     },
     "execution_count": 14,
     "metadata": {},
     "output_type": "execute_result"
    }
   ],
   "source": [
    "compare_view['EoL Cycle diff(real = 124)'] = EoL_diff_list\n",
    "compare_view.set_index(\"Name\")"
   ]
  }
 ],
 "metadata": {
  "kernelspec": {
   "display_name": "Torch_practice",
   "language": "python",
   "name": "python3"
  },
  "language_info": {
   "codemirror_mode": {
    "name": "ipython",
    "version": 3
   },
   "file_extension": ".py",
   "mimetype": "text/x-python",
   "name": "python",
   "nbconvert_exporter": "python",
   "pygments_lexer": "ipython3",
   "version": "3.10.0"
  }
 },
 "nbformat": 4,
 "nbformat_minor": 2
}
