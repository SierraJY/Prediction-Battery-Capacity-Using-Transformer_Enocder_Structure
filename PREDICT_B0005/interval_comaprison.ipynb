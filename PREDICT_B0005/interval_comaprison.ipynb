{
 "cells": [
  {
   "cell_type": "code",
   "execution_count": 2,
   "metadata": {},
   "outputs": [],
   "source": [
    "import matplotlib\n",
    "import matplotlib.pyplot as plt\n",
    "import numpy as np\n",
    "import pandas as pd"
   ]
  },
  {
   "cell_type": "markdown",
   "metadata": {},
   "source": [
    "## 제안 모델 VS LSTM VS AttentionLSTM 구간별 비교 (0~40)"
   ]
  },
  {
   "cell_type": "markdown",
   "metadata": {},
   "source": [
    "### B0005"
   ]
  },
  {
   "cell_type": "code",
   "execution_count": 28,
   "metadata": {},
   "outputs": [
    {
     "name": "stdout",
     "output_type": "stream",
     "text": [
      "0~56 Cycle\n"
     ]
    },
    {
     "data": {
      "text/html": [
       "<div>\n",
       "<style scoped>\n",
       "    .dataframe tbody tr th:only-of-type {\n",
       "        vertical-align: middle;\n",
       "    }\n",
       "\n",
       "    .dataframe tbody tr th {\n",
       "        vertical-align: top;\n",
       "    }\n",
       "\n",
       "    .dataframe thead th {\n",
       "        text-align: right;\n",
       "    }\n",
       "</style>\n",
       "<table border=\"1\" class=\"dataframe\">\n",
       "  <thead>\n",
       "    <tr style=\"text-align: right;\">\n",
       "      <th></th>\n",
       "      <th>MAPE(%)</th>\n",
       "    </tr>\n",
       "    <tr>\n",
       "      <th>Name</th>\n",
       "      <th></th>\n",
       "    </tr>\n",
       "  </thead>\n",
       "  <tbody>\n",
       "    <tr>\n",
       "      <th>PE_2*Multi_Head_Attn</th>\n",
       "      <td>2.163</td>\n",
       "    </tr>\n",
       "    <tr>\n",
       "      <th>LSTM</th>\n",
       "      <td>2.104</td>\n",
       "    </tr>\n",
       "    <tr>\n",
       "      <th>AttnLSTM</th>\n",
       "      <td>3.551</td>\n",
       "    </tr>\n",
       "  </tbody>\n",
       "</table>\n",
       "</div>"
      ],
      "text/plain": [
       "                      MAPE(%)\n",
       "Name                         \n",
       "PE_2*Multi_Head_Attn    2.163\n",
       "LSTM                    2.104\n",
       "AttnLSTM                3.551"
      ]
     },
     "metadata": {},
     "output_type": "display_data"
    }
   ],
   "source": [
    "from sklearn.metrics import mean_squared_error\n",
    "from sklearn.metrics import mean_absolute_percentage_error\n",
    "\n",
    "real = pd.read_csv(\"../DATA/DataFrame/B0005_capacity_df.csv\")\n",
    "MC_LSTM = pd.read_csv(\"./MC_LSTM.csv\")\n",
    "MC_AttnLSTM = pd.read_csv(\"./MC_AttentionLSTM.csv\")\n",
    "MC_PE_2MAttn = pd.read_csv(\"./MC_PE_2MAttn.csv\")\n",
    "\n",
    "compare_view = pd.DataFrame(columns=['Name','MAPE(%)'])\n",
    "all_models_predicts = [MC_PE_2MAttn, MC_LSTM, MC_AttnLSTM]\n",
    "model_names = ['PE_2*Multi_Head_Attn', 'LSTM', 'AttnLSTM']\n",
    "\n",
    "for name, model in zip(model_names, all_models_predicts): \n",
    "    MAPE = np.round(mean_absolute_percentage_error(real.values.reshape(-1)[:56], model.values.reshape(-1)[:56]) * 100, 3)\n",
    "    row = pd.DataFrame([[name, MAPE]], columns=['Name', 'MAPE(%)'])\n",
    "    compare_view = pd.concat([compare_view, row], axis=0)\n",
    "\n",
    "print(\"0~55 Cycle\")\n",
    "display(compare_view.set_index(\"Name\"))"
   ]
  },
  {
   "cell_type": "code",
   "execution_count": 29,
   "metadata": {},
   "outputs": [
    {
     "name": "stdout",
     "output_type": "stream",
     "text": [
      "56~111 Cycle\n"
     ]
    },
    {
     "data": {
      "text/html": [
       "<div>\n",
       "<style scoped>\n",
       "    .dataframe tbody tr th:only-of-type {\n",
       "        vertical-align: middle;\n",
       "    }\n",
       "\n",
       "    .dataframe tbody tr th {\n",
       "        vertical-align: top;\n",
       "    }\n",
       "\n",
       "    .dataframe thead th {\n",
       "        text-align: right;\n",
       "    }\n",
       "</style>\n",
       "<table border=\"1\" class=\"dataframe\">\n",
       "  <thead>\n",
       "    <tr style=\"text-align: right;\">\n",
       "      <th></th>\n",
       "      <th>MAPE(%)</th>\n",
       "    </tr>\n",
       "    <tr>\n",
       "      <th>Name</th>\n",
       "      <th></th>\n",
       "    </tr>\n",
       "  </thead>\n",
       "  <tbody>\n",
       "    <tr>\n",
       "      <th>PE_2*Multi_Head_Attn</th>\n",
       "      <td>0.863</td>\n",
       "    </tr>\n",
       "    <tr>\n",
       "      <th>LSTM</th>\n",
       "      <td>0.740</td>\n",
       "    </tr>\n",
       "    <tr>\n",
       "      <th>AttnLSTM</th>\n",
       "      <td>1.336</td>\n",
       "    </tr>\n",
       "  </tbody>\n",
       "</table>\n",
       "</div>"
      ],
      "text/plain": [
       "                      MAPE(%)\n",
       "Name                         \n",
       "PE_2*Multi_Head_Attn    0.863\n",
       "LSTM                    0.740\n",
       "AttnLSTM                1.336"
      ]
     },
     "metadata": {},
     "output_type": "display_data"
    }
   ],
   "source": [
    "compare_view = pd.DataFrame(columns=['Name','MAPE(%)'])\n",
    "all_models_predicts = [MC_PE_2MAttn, MC_LSTM, MC_AttnLSTM]\n",
    "model_names = ['PE_2*Multi_Head_Attn', 'LSTM', 'AttnLSTM']\n",
    "\n",
    "for name, model in zip(model_names, all_models_predicts): \n",
    "    MAPE = np.round(mean_absolute_percentage_error(real.values.reshape(-1)[56:112], model.values.reshape(-1)[56:112]) * 100, 3)\n",
    "    row = pd.DataFrame([[name, MAPE]], columns=['Name', 'MAPE(%)'])\n",
    "    compare_view = pd.concat([compare_view, row], axis=0)\n",
    "print(\"56~111 Cycle\")\n",
    "display(compare_view.set_index(\"Name\"))"
   ]
  },
  {
   "cell_type": "code",
   "execution_count": 30,
   "metadata": {},
   "outputs": [
    {
     "name": "stdout",
     "output_type": "stream",
     "text": [
      "112~168 Cycle\n"
     ]
    },
    {
     "data": {
      "text/html": [
       "<div>\n",
       "<style scoped>\n",
       "    .dataframe tbody tr th:only-of-type {\n",
       "        vertical-align: middle;\n",
       "    }\n",
       "\n",
       "    .dataframe tbody tr th {\n",
       "        vertical-align: top;\n",
       "    }\n",
       "\n",
       "    .dataframe thead th {\n",
       "        text-align: right;\n",
       "    }\n",
       "</style>\n",
       "<table border=\"1\" class=\"dataframe\">\n",
       "  <thead>\n",
       "    <tr style=\"text-align: right;\">\n",
       "      <th></th>\n",
       "      <th>MAPE(%)</th>\n",
       "    </tr>\n",
       "    <tr>\n",
       "      <th>Name</th>\n",
       "      <th></th>\n",
       "    </tr>\n",
       "  </thead>\n",
       "  <tbody>\n",
       "    <tr>\n",
       "      <th>PE_2*Multi_Head_Attn</th>\n",
       "      <td>0.722</td>\n",
       "    </tr>\n",
       "    <tr>\n",
       "      <th>LSTM</th>\n",
       "      <td>3.346</td>\n",
       "    </tr>\n",
       "    <tr>\n",
       "      <th>AttnLSTM</th>\n",
       "      <td>1.654</td>\n",
       "    </tr>\n",
       "  </tbody>\n",
       "</table>\n",
       "</div>"
      ],
      "text/plain": [
       "                      MAPE(%)\n",
       "Name                         \n",
       "PE_2*Multi_Head_Attn    0.722\n",
       "LSTM                    3.346\n",
       "AttnLSTM                1.654"
      ]
     },
     "metadata": {},
     "output_type": "display_data"
    }
   ],
   "source": [
    "compare_view = pd.DataFrame(columns=['Name','MAPE(%)'])\n",
    "all_models_predicts = [MC_PE_2MAttn, MC_LSTM, MC_AttnLSTM]\n",
    "model_names = ['PE_2*Multi_Head_Attn', 'LSTM', 'AttnLSTM']\n",
    "\n",
    "for name, model in zip(model_names, all_models_predicts): \n",
    "    MAPE = np.round(mean_absolute_percentage_error(real.values.reshape(-1)[112:], model.values.reshape(-1)[112:]) * 100, 3)\n",
    "    row = pd.DataFrame([[name, MAPE]], columns=['Name', 'MAPE(%)'])\n",
    "    compare_view = pd.concat([compare_view, row], axis=0)\n",
    "print(\"112~168 Cycle\")\n",
    "display(compare_view.set_index(\"Name\"))"
   ]
  },
  {
   "cell_type": "markdown",
   "metadata": {},
   "source": [
    "### B0006"
   ]
  },
  {
   "cell_type": "code",
   "execution_count": 31,
   "metadata": {},
   "outputs": [
    {
     "name": "stdout",
     "output_type": "stream",
     "text": [
      "0~55 Cycle\n"
     ]
    },
    {
     "data": {
      "text/html": [
       "<div>\n",
       "<style scoped>\n",
       "    .dataframe tbody tr th:only-of-type {\n",
       "        vertical-align: middle;\n",
       "    }\n",
       "\n",
       "    .dataframe tbody tr th {\n",
       "        vertical-align: top;\n",
       "    }\n",
       "\n",
       "    .dataframe thead th {\n",
       "        text-align: right;\n",
       "    }\n",
       "</style>\n",
       "<table border=\"1\" class=\"dataframe\">\n",
       "  <thead>\n",
       "    <tr style=\"text-align: right;\">\n",
       "      <th></th>\n",
       "      <th>MAPE(%)</th>\n",
       "    </tr>\n",
       "    <tr>\n",
       "      <th>Name</th>\n",
       "      <th></th>\n",
       "    </tr>\n",
       "  </thead>\n",
       "  <tbody>\n",
       "    <tr>\n",
       "      <th>PE_2*Multi_Head_Attn</th>\n",
       "      <td>3.708</td>\n",
       "    </tr>\n",
       "    <tr>\n",
       "      <th>LSTM</th>\n",
       "      <td>2.909</td>\n",
       "    </tr>\n",
       "    <tr>\n",
       "      <th>AttnLSTM</th>\n",
       "      <td>2.266</td>\n",
       "    </tr>\n",
       "  </tbody>\n",
       "</table>\n",
       "</div>"
      ],
      "text/plain": [
       "                      MAPE(%)\n",
       "Name                         \n",
       "PE_2*Multi_Head_Attn    3.708\n",
       "LSTM                    2.909\n",
       "AttnLSTM                2.266"
      ]
     },
     "metadata": {},
     "output_type": "display_data"
    }
   ],
   "source": [
    "from sklearn.metrics import mean_squared_error\n",
    "from sklearn.metrics import mean_absolute_percentage_error\n",
    "\n",
    "real = pd.read_csv(\"../DATA/DataFrame/B0006_capacity_df.csv\")\n",
    "MC_LSTM = pd.read_csv(\"../Train_Other_MCModels/PREDICT_B0006/MC_LSTM.csv\")\n",
    "MC_AttnLSTM = pd.read_csv(\"../Train_Other_MCModels/PREDICT_B0006/MC_AttentionLSTM.csv\")\n",
    "MC_PE_2MAttn = pd.read_csv(\"../Train_Other_MCModels/PREDICT_B0006/MC_PE_2MAttn.csv\")\n",
    "\n",
    "compare_view = pd.DataFrame(columns=['Name','MAPE(%)'])\n",
    "all_models_predicts = [MC_PE_2MAttn, MC_LSTM, MC_AttnLSTM]\n",
    "model_names = ['PE_2*Multi_Head_Attn', 'LSTM', 'AttnLSTM']\n",
    "\n",
    "for name, model in zip(model_names, all_models_predicts): \n",
    "    MAPE = np.round(mean_absolute_percentage_error(real.values.reshape(-1)[:56], model.values.reshape(-1)[:56]) * 100, 3)\n",
    "    row = pd.DataFrame([[name, MAPE]], columns=['Name', 'MAPE(%)'])\n",
    "    compare_view = pd.concat([compare_view, row], axis=0)\n",
    "\n",
    "print(\"0~55 Cycle\")\n",
    "display(compare_view.set_index(\"Name\"))"
   ]
  },
  {
   "cell_type": "code",
   "execution_count": 32,
   "metadata": {},
   "outputs": [
    {
     "name": "stdout",
     "output_type": "stream",
     "text": [
      "56~111 Cycle\n"
     ]
    },
    {
     "data": {
      "text/html": [
       "<div>\n",
       "<style scoped>\n",
       "    .dataframe tbody tr th:only-of-type {\n",
       "        vertical-align: middle;\n",
       "    }\n",
       "\n",
       "    .dataframe tbody tr th {\n",
       "        vertical-align: top;\n",
       "    }\n",
       "\n",
       "    .dataframe thead th {\n",
       "        text-align: right;\n",
       "    }\n",
       "</style>\n",
       "<table border=\"1\" class=\"dataframe\">\n",
       "  <thead>\n",
       "    <tr style=\"text-align: right;\">\n",
       "      <th></th>\n",
       "      <th>MAPE(%)</th>\n",
       "    </tr>\n",
       "    <tr>\n",
       "      <th>Name</th>\n",
       "      <th></th>\n",
       "    </tr>\n",
       "  </thead>\n",
       "  <tbody>\n",
       "    <tr>\n",
       "      <th>PE_2*Multi_Head_Attn</th>\n",
       "      <td>1.041</td>\n",
       "    </tr>\n",
       "    <tr>\n",
       "      <th>LSTM</th>\n",
       "      <td>0.976</td>\n",
       "    </tr>\n",
       "    <tr>\n",
       "      <th>AttnLSTM</th>\n",
       "      <td>2.531</td>\n",
       "    </tr>\n",
       "  </tbody>\n",
       "</table>\n",
       "</div>"
      ],
      "text/plain": [
       "                      MAPE(%)\n",
       "Name                         \n",
       "PE_2*Multi_Head_Attn    1.041\n",
       "LSTM                    0.976\n",
       "AttnLSTM                2.531"
      ]
     },
     "metadata": {},
     "output_type": "display_data"
    }
   ],
   "source": [
    "compare_view = pd.DataFrame(columns=['Name','MAPE(%)'])\n",
    "all_models_predicts = [MC_PE_2MAttn, MC_LSTM, MC_AttnLSTM]\n",
    "model_names = ['PE_2*Multi_Head_Attn', 'LSTM', 'AttnLSTM']\n",
    "\n",
    "for name, model in zip(model_names, all_models_predicts): \n",
    "    MAPE = np.round(mean_absolute_percentage_error(real.values.reshape(-1)[56:112], model.values.reshape(-1)[56:112]) * 100, 3)\n",
    "    row = pd.DataFrame([[name, MAPE]], columns=['Name', 'MAPE(%)'])\n",
    "    compare_view = pd.concat([compare_view, row], axis=0)\n",
    "print(\"56~111 Cycle\")\n",
    "display(compare_view.set_index(\"Name\"))"
   ]
  },
  {
   "cell_type": "code",
   "execution_count": 33,
   "metadata": {},
   "outputs": [
    {
     "name": "stdout",
     "output_type": "stream",
     "text": [
      "112~168 Cycle\n"
     ]
    },
    {
     "data": {
      "text/html": [
       "<div>\n",
       "<style scoped>\n",
       "    .dataframe tbody tr th:only-of-type {\n",
       "        vertical-align: middle;\n",
       "    }\n",
       "\n",
       "    .dataframe tbody tr th {\n",
       "        vertical-align: top;\n",
       "    }\n",
       "\n",
       "    .dataframe thead th {\n",
       "        text-align: right;\n",
       "    }\n",
       "</style>\n",
       "<table border=\"1\" class=\"dataframe\">\n",
       "  <thead>\n",
       "    <tr style=\"text-align: right;\">\n",
       "      <th></th>\n",
       "      <th>MAPE(%)</th>\n",
       "    </tr>\n",
       "    <tr>\n",
       "      <th>Name</th>\n",
       "      <th></th>\n",
       "    </tr>\n",
       "  </thead>\n",
       "  <tbody>\n",
       "    <tr>\n",
       "      <th>PE_2*Multi_Head_Attn</th>\n",
       "      <td>3.762</td>\n",
       "    </tr>\n",
       "    <tr>\n",
       "      <th>LSTM</th>\n",
       "      <td>8.262</td>\n",
       "    </tr>\n",
       "    <tr>\n",
       "      <th>AttnLSTM</th>\n",
       "      <td>9.336</td>\n",
       "    </tr>\n",
       "  </tbody>\n",
       "</table>\n",
       "</div>"
      ],
      "text/plain": [
       "                      MAPE(%)\n",
       "Name                         \n",
       "PE_2*Multi_Head_Attn    3.762\n",
       "LSTM                    8.262\n",
       "AttnLSTM                9.336"
      ]
     },
     "metadata": {},
     "output_type": "display_data"
    }
   ],
   "source": [
    "compare_view = pd.DataFrame(columns=['Name','MAPE(%)'])\n",
    "all_models_predicts = [MC_PE_2MAttn, MC_LSTM, MC_AttnLSTM]\n",
    "model_names = ['PE_2*Multi_Head_Attn', 'LSTM', 'AttnLSTM']\n",
    "\n",
    "for name, model in zip(model_names, all_models_predicts): \n",
    "    MAPE = np.round(mean_absolute_percentage_error(real.values.reshape(-1)[112:], model.values.reshape(-1)[112:]) * 100, 3)\n",
    "    row = pd.DataFrame([[name, MAPE]], columns=['Name', 'MAPE(%)'])\n",
    "    compare_view = pd.concat([compare_view, row], axis=0)\n",
    "print(\"112~168 Cycle\")\n",
    "display(compare_view.set_index(\"Name\"))"
   ]
  },
  {
   "cell_type": "markdown",
   "metadata": {},
   "source": [
    "### B0007"
   ]
  },
  {
   "cell_type": "code",
   "execution_count": 34,
   "metadata": {},
   "outputs": [
    {
     "name": "stdout",
     "output_type": "stream",
     "text": [
      "0~55 Cycle\n"
     ]
    },
    {
     "data": {
      "text/html": [
       "<div>\n",
       "<style scoped>\n",
       "    .dataframe tbody tr th:only-of-type {\n",
       "        vertical-align: middle;\n",
       "    }\n",
       "\n",
       "    .dataframe tbody tr th {\n",
       "        vertical-align: top;\n",
       "    }\n",
       "\n",
       "    .dataframe thead th {\n",
       "        text-align: right;\n",
       "    }\n",
       "</style>\n",
       "<table border=\"1\" class=\"dataframe\">\n",
       "  <thead>\n",
       "    <tr style=\"text-align: right;\">\n",
       "      <th></th>\n",
       "      <th>MAPE(%)</th>\n",
       "    </tr>\n",
       "    <tr>\n",
       "      <th>Name</th>\n",
       "      <th></th>\n",
       "    </tr>\n",
       "  </thead>\n",
       "  <tbody>\n",
       "    <tr>\n",
       "      <th>PE_2*Multi_Head_Attn</th>\n",
       "      <td>2.047</td>\n",
       "    </tr>\n",
       "    <tr>\n",
       "      <th>LSTM</th>\n",
       "      <td>1.185</td>\n",
       "    </tr>\n",
       "    <tr>\n",
       "      <th>AttnLSTM</th>\n",
       "      <td>4.550</td>\n",
       "    </tr>\n",
       "  </tbody>\n",
       "</table>\n",
       "</div>"
      ],
      "text/plain": [
       "                      MAPE(%)\n",
       "Name                         \n",
       "PE_2*Multi_Head_Attn    2.047\n",
       "LSTM                    1.185\n",
       "AttnLSTM                4.550"
      ]
     },
     "metadata": {},
     "output_type": "display_data"
    }
   ],
   "source": [
    "from sklearn.metrics import mean_squared_error\n",
    "from sklearn.metrics import mean_absolute_percentage_error\n",
    "\n",
    "real = pd.read_csv(\"../DATA/DataFrame/B0007_capacity_df.csv\")\n",
    "MC_LSTM = pd.read_csv(\"../Train_Other_MCModels/PREDICT_B0007/MC_LSTM.csv\")\n",
    "MC_AttnLSTM = pd.read_csv(\"../Train_Other_MCModels/PREDICT_B0007/MC_AttentionLSTM.csv\")\n",
    "MC_PE_2MAttn = pd.read_csv(\"../Train_Other_MCModels/PREDICT_B0007/MC_PE_2MAttn.csv\")\n",
    "\n",
    "compare_view = pd.DataFrame(columns=['Name','MAPE(%)'])\n",
    "all_models_predicts = [MC_PE_2MAttn, MC_LSTM, MC_AttnLSTM]\n",
    "model_names = ['PE_2*Multi_Head_Attn', 'LSTM', 'AttnLSTM']\n",
    "\n",
    "for name, model in zip(model_names, all_models_predicts): \n",
    "    MAPE = np.round(mean_absolute_percentage_error(real.values.reshape(-1)[:56], model.values.reshape(-1)[:56]) * 100, 3)\n",
    "    row = pd.DataFrame([[name, MAPE]], columns=['Name', 'MAPE(%)'])\n",
    "    compare_view = pd.concat([compare_view, row], axis=0)\n",
    "\n",
    "print(\"0~55 Cycle\")\n",
    "display(compare_view.set_index(\"Name\"))"
   ]
  },
  {
   "cell_type": "code",
   "execution_count": 35,
   "metadata": {},
   "outputs": [
    {
     "name": "stdout",
     "output_type": "stream",
     "text": [
      "56~111 Cycle\n"
     ]
    },
    {
     "data": {
      "text/html": [
       "<div>\n",
       "<style scoped>\n",
       "    .dataframe tbody tr th:only-of-type {\n",
       "        vertical-align: middle;\n",
       "    }\n",
       "\n",
       "    .dataframe tbody tr th {\n",
       "        vertical-align: top;\n",
       "    }\n",
       "\n",
       "    .dataframe thead th {\n",
       "        text-align: right;\n",
       "    }\n",
       "</style>\n",
       "<table border=\"1\" class=\"dataframe\">\n",
       "  <thead>\n",
       "    <tr style=\"text-align: right;\">\n",
       "      <th></th>\n",
       "      <th>MAPE(%)</th>\n",
       "    </tr>\n",
       "    <tr>\n",
       "      <th>Name</th>\n",
       "      <th></th>\n",
       "    </tr>\n",
       "  </thead>\n",
       "  <tbody>\n",
       "    <tr>\n",
       "      <th>PE_2*Multi_Head_Attn</th>\n",
       "      <td>1.108</td>\n",
       "    </tr>\n",
       "    <tr>\n",
       "      <th>LSTM</th>\n",
       "      <td>0.639</td>\n",
       "    </tr>\n",
       "    <tr>\n",
       "      <th>AttnLSTM</th>\n",
       "      <td>3.693</td>\n",
       "    </tr>\n",
       "  </tbody>\n",
       "</table>\n",
       "</div>"
      ],
      "text/plain": [
       "                      MAPE(%)\n",
       "Name                         \n",
       "PE_2*Multi_Head_Attn    1.108\n",
       "LSTM                    0.639\n",
       "AttnLSTM                3.693"
      ]
     },
     "metadata": {},
     "output_type": "display_data"
    }
   ],
   "source": [
    "compare_view = pd.DataFrame(columns=['Name','MAPE(%)'])\n",
    "all_models_predicts = [MC_PE_2MAttn, MC_LSTM, MC_AttnLSTM]\n",
    "model_names = ['PE_2*Multi_Head_Attn', 'LSTM', 'AttnLSTM']\n",
    "\n",
    "for name, model in zip(model_names, all_models_predicts): \n",
    "    MAPE = np.round(mean_absolute_percentage_error(real.values.reshape(-1)[56:112], model.values.reshape(-1)[56:112]) * 100, 3)\n",
    "    row = pd.DataFrame([[name, MAPE]], columns=['Name', 'MAPE(%)'])\n",
    "    compare_view = pd.concat([compare_view, row], axis=0)\n",
    "print(\"56~111 Cycle\")\n",
    "display(compare_view.set_index(\"Name\"))"
   ]
  },
  {
   "cell_type": "code",
   "execution_count": 36,
   "metadata": {},
   "outputs": [
    {
     "name": "stdout",
     "output_type": "stream",
     "text": [
      "112~168 Cycle\n"
     ]
    },
    {
     "data": {
      "text/html": [
       "<div>\n",
       "<style scoped>\n",
       "    .dataframe tbody tr th:only-of-type {\n",
       "        vertical-align: middle;\n",
       "    }\n",
       "\n",
       "    .dataframe tbody tr th {\n",
       "        vertical-align: top;\n",
       "    }\n",
       "\n",
       "    .dataframe thead th {\n",
       "        text-align: right;\n",
       "    }\n",
       "</style>\n",
       "<table border=\"1\" class=\"dataframe\">\n",
       "  <thead>\n",
       "    <tr style=\"text-align: right;\">\n",
       "      <th></th>\n",
       "      <th>MAPE(%)</th>\n",
       "    </tr>\n",
       "    <tr>\n",
       "      <th>Name</th>\n",
       "      <th></th>\n",
       "    </tr>\n",
       "  </thead>\n",
       "  <tbody>\n",
       "    <tr>\n",
       "      <th>PE_2*Multi_Head_Attn</th>\n",
       "      <td>1.054</td>\n",
       "    </tr>\n",
       "    <tr>\n",
       "      <th>LSTM</th>\n",
       "      <td>2.402</td>\n",
       "    </tr>\n",
       "    <tr>\n",
       "      <th>AttnLSTM</th>\n",
       "      <td>4.657</td>\n",
       "    </tr>\n",
       "  </tbody>\n",
       "</table>\n",
       "</div>"
      ],
      "text/plain": [
       "                      MAPE(%)\n",
       "Name                         \n",
       "PE_2*Multi_Head_Attn    1.054\n",
       "LSTM                    2.402\n",
       "AttnLSTM                4.657"
      ]
     },
     "metadata": {},
     "output_type": "display_data"
    }
   ],
   "source": [
    "compare_view = pd.DataFrame(columns=['Name','MAPE(%)'])\n",
    "all_models_predicts = [MC_PE_2MAttn, MC_LSTM, MC_AttnLSTM]\n",
    "model_names = ['PE_2*Multi_Head_Attn', 'LSTM', 'AttnLSTM']\n",
    "\n",
    "for name, model in zip(model_names, all_models_predicts): \n",
    "    MAPE = np.round(mean_absolute_percentage_error(real.values.reshape(-1)[112:], model.values.reshape(-1)[112:]) * 100, 3)\n",
    "    row = pd.DataFrame([[name, MAPE]], columns=['Name', 'MAPE(%)'])\n",
    "    compare_view = pd.concat([compare_view, row], axis=0)\n",
    "print(\"112~168 Cycle\")\n",
    "display(compare_view.set_index(\"Name\"))"
   ]
  },
  {
   "cell_type": "markdown",
   "metadata": {},
   "source": [
    "### B0018 (다른 데이터셋에 비해 너무 짧아서 제외)"
   ]
  },
  {
   "cell_type": "markdown",
   "metadata": {},
   "source": [
    "from sklearn.metrics import mean_squared_error\n",
    "from sklearn.metrics import mean_absolute_percentage_error\n",
    "\n",
    "real = pd.read_csv(\"../DATA/DataFrame/B0018_capacity_df.csv\")\n",
    "MC_LSTM = pd.read_csv(\"../Train_Other_MCModels/PREDICT_B0018/MC_LSTM.csv\")\n",
    "MC_AttnLSTM = pd.read_csv(\"../Train_Other_MCModels/PREDICT_B0018/MC_AttentionLSTM.csv\")\n",
    "MC_PE_2MAttn = pd.read_csv(\"../Train_Other_MCModels/PREDICT_B0018/MC_PE_2MAttn.csv\")\n",
    "\n",
    "compare_view = pd.DataFrame(columns=['Name','MAPE(%)'])\n",
    "all_models_predicts = [MC_PE_2MAttn, MC_LSTM, MC_AttnLSTM]\n",
    "model_names = ['PE_2*Multi_Head_Attn', 'LSTM', 'AttnLSTM']\n",
    "\n",
    "for name, model in zip(model_names, all_models_predicts): \n",
    "    MAPE = np.round(mean_absolute_percentage_error(real.values.reshape(-1)[:40], model.values.reshape(-1)[:40]) * 100, 3)\n",
    "    row = pd.DataFrame([[name, MAPE]], columns=['Name', 'MAPE(%)'])\n",
    "    compare_view = pd.concat([compare_view, row], axis=0)\n",
    "\n",
    "print(\"Before 40 Cycle\")\n",
    "display(compare_view.set_index(\"Name\"))"
   ]
  },
  {
   "cell_type": "markdown",
   "metadata": {},
   "source": [
    "compare_view = pd.DataFrame(columns=['Name','MAPE(%)'])\n",
    "all_models_predicts = [MC_PE_2MAttn, MC_LSTM, MC_AttnLSTM]\n",
    "model_names = ['PE_2*Multi_Head_Attn', 'LSTM', 'AttnLSTM']\n",
    "\n",
    "for name, model in zip(model_names, all_models_predicts): \n",
    "    MAPE = np.round(mean_absolute_percentage_error(real.values.reshape(-1)[40:], model.values.reshape(-1)[40:]) * 100, 3)\n",
    "    row = pd.DataFrame([[name, MAPE]], columns=['Name', 'MAPE(%)'])\n",
    "    compare_view = pd.concat([compare_view, row], axis=0)\n",
    "print(\"after 40 Cycle\")\n",
    "display(compare_view.set_index(\"Name\"))"
   ]
  }
 ],
 "metadata": {
  "kernelspec": {
   "display_name": "Torch_practice",
   "language": "python",
   "name": "python3"
  },
  "language_info": {
   "codemirror_mode": {
    "name": "ipython",
    "version": 3
   },
   "file_extension": ".py",
   "mimetype": "text/x-python",
   "name": "python",
   "nbconvert_exporter": "python",
   "pygments_lexer": "ipython3",
   "version": "3.10.0"
  }
 },
 "nbformat": 4,
 "nbformat_minor": 2
}
