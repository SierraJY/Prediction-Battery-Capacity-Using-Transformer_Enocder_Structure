{
 "cells": [
  {
   "cell_type": "code",
   "execution_count": 1,
   "metadata": {},
   "outputs": [],
   "source": [
    "import numpy as np\n",
    "import pandas as pd\n",
    "from copy import deepcopy\n",
    "from sklearn.model_selection import train_test_split\n",
    "from sklearn.preprocessing import MinMaxScaler\n",
    "\n",
    "import torch\n",
    "import torch.nn as nn\n",
    "import torch.optim as optim\n",
    "from torch.utils.data import Dataset, DataLoader"
   ]
  },
  {
   "cell_type": "markdown",
   "metadata": {},
   "source": [
    "### Device 세팅"
   ]
  },
  {
   "cell_type": "code",
   "execution_count": 2,
   "metadata": {},
   "outputs": [
    {
     "name": "stdout",
     "output_type": "stream",
     "text": [
      "mps\n"
     ]
    }
   ],
   "source": [
    "device = 'mps' if torch.backends.mps.is_available() else 'cpu'\n",
    "\n",
    "torch.manual_seed(1)\n",
    "if device == 'mps':\n",
    "    torch.mps.manual_seed(1)\n",
    "\n",
    "print(device)"
   ]
  },
  {
   "cell_type": "markdown",
   "metadata": {},
   "source": [
    "### 모델 및 학습 정의"
   ]
  },
  {
   "cell_type": "code",
   "execution_count": 3,
   "metadata": {},
   "outputs": [],
   "source": [
    "DROP_OUT_R = 0.5\n",
    "LEARNING_RATE = 0.001\n",
    "\n",
    "EPOCHS = 500\n",
    "BATCH_SIZE = 50\n",
    "Seq_length = 5\n",
    "#VALIDATION_RATE = 0.2\n",
    "\n",
    "CHECK_INTERVAL = 10\n",
    "# EARLY_STOP = 30"
   ]
  },
  {
   "cell_type": "code",
   "execution_count": 4,
   "metadata": {},
   "outputs": [],
   "source": [
    "class PositionalEncoding(nn.Module):\n",
    "    def __init__(self, d_model, max_len, device):\n",
    "        super().__init__()\n",
    "\n",
    "        # Positional Encoding 초기화\n",
    "        # 1. 비어있는 tensor 생성\n",
    "        # (max_len,d_model)\n",
    "        self.P_E = torch.zeros(max_len, d_model, device=device)\n",
    "        # 학습되는 값이 아님으로 requires_grad 을 False로 설정\n",
    "        self.P_E.requires_grad = False\n",
    "\n",
    "        # 2. pos (0~max_len) 생성 (row 방향 => unsqueeze(dim=1))\n",
    "        pos = torch.arange(0, max_len, dtype=torch.float, device=device).unsqueeze(dim=1)\n",
    "\n",
    "        # 3. _2i (0~2i) 생성 (col 방향)\n",
    "        # 2i는 step = 2 를 활용하여 i의 2배수를 만듦\n",
    "        _2i = torch.arange(0, d_model, step= 2, dtype=torch.float, device=device)\n",
    "\n",
    "        # 4. 제안된 positional encoding 생성 \n",
    "        # (i가 짝수일때 : sin, 홀수일때 : cos)\n",
    "        self.P_E[:, 0::2] = torch.sin(pos / 10000 ** (_2i / d_model))\n",
    "        self.P_E[:, 1::2] = torch.cos(pos / 10000 ** (_2i / d_model))\n",
    "\n",
    "    def forward(self,x):\n",
    "        # x seq 길이에 맞춰 PE return \n",
    "        # (seq_len, d_model)\n",
    "        _, seq_len,_ = x.size()\n",
    "        PE_for_x = self.P_E[:seq_len,:]\n",
    "\n",
    "        return PE_for_x"
   ]
  },
  {
   "cell_type": "code",
   "execution_count": 5,
   "metadata": {},
   "outputs": [],
   "source": [
    "class MC_PE_2MAttn_use_VIT(nn.Module):\n",
    "    def __init__(self):\n",
    "        super().__init__()\n",
    "        \n",
    "        self.PE_layer = PositionalEncoding(30, 5, device)\n",
    "\n",
    "        self.MA_layer1 = nn.MultiheadAttention(\n",
    "            embed_dim = 30,\n",
    "            num_heads = 5,\n",
    "            batch_first=True,\n",
    "            dropout = DROP_OUT_R\n",
    "        )\n",
    "\n",
    "        self.FC_layer1 = nn.Linear(30, 15)\n",
    "\n",
    "        self.MA_layer2 = nn.MultiheadAttention(\n",
    "            embed_dim = 15,\n",
    "            num_heads = 5,\n",
    "            batch_first=True,\n",
    "            dropout = DROP_OUT_R\n",
    "        )\n",
    "\n",
    "        self.FC_layer2 = nn.Linear(15, 1)\n",
    "        self.FC_layer3 = nn.Linear(5, 1)\n",
    "\n",
    "    def forward(self, input_x):\n",
    "        pe_x = self.PE_layer(input_x)\n",
    "        input_x += pe_x\n",
    "        \n",
    "        ma_y1,_ = self.MA_layer1(input_x, input_x, input_x)        \n",
    "        fc_y1 = self.FC_layer1(ma_y1)\n",
    "\n",
    "        ma_y2, _ = self.MA_layer2(fc_y1, fc_y1, fc_y1)\n",
    "        fc_y2 = self.FC_layer2(ma_y2)\n",
    "\n",
    "        fc_y3 = self.FC_layer3(fc_y2.reshape(-1,5))\n",
    "        return fc_y3, pe_x\n",
    "\n",
    "MC_PE_2MAttn = MC_PE_2MAttn_use_VIT().to(device)"
   ]
  },
  {
   "cell_type": "code",
   "execution_count": 6,
   "metadata": {},
   "outputs": [
    {
     "data": {
      "text/plain": [
       "tensor([[[  0,   1,   2,   3,   4,   5,   6,   7,   8,   9,  10,  11,  12,  13,\n",
       "           14,  15,  16,  17,  18,  19,  20,  21,  22,  23,  24,  25,  26,  27,\n",
       "           28,  29],\n",
       "         [ 30,  31,  32,  33,  34,  35,  36,  37,  38,  39,  40,  41,  42,  43,\n",
       "           44,  45,  46,  47,  48,  49,  50,  51,  52,  53,  54,  55,  56,  57,\n",
       "           58,  59],\n",
       "         [ 60,  61,  62,  63,  64,  65,  66,  67,  68,  69,  70,  71,  72,  73,\n",
       "           74,  75,  76,  77,  78,  79,  80,  81,  82,  83,  84,  85,  86,  87,\n",
       "           88,  89],\n",
       "         [ 90,  91,  92,  93,  94,  95,  96,  97,  98,  99, 100, 101, 102, 103,\n",
       "          104, 105, 106, 107, 108, 109, 110, 111, 112, 113, 114, 115, 116, 117,\n",
       "          118, 119],\n",
       "         [120, 121, 122, 123, 124, 125, 126, 127, 128, 129, 130, 131, 132, 133,\n",
       "          134, 135, 136, 137, 138, 139, 140, 141, 142, 143, 144, 145, 146, 147,\n",
       "          148, 149]]])"
      ]
     },
     "execution_count": 6,
     "metadata": {},
     "output_type": "execute_result"
    }
   ],
   "source": [
    "torch.arange(0,150).reshape(1,5,30)"
   ]
  },
  {
   "cell_type": "code",
   "execution_count": 7,
   "metadata": {},
   "outputs": [],
   "source": [
    "_, pe_check = MC_PE_2MAttn(torch.arange(0,150,dtype=torch.float).reshape(1,5,30).to(device))"
   ]
  },
  {
   "cell_type": "code",
   "execution_count": 8,
   "metadata": {},
   "outputs": [
    {
     "data": {
      "text/plain": [
       "tensor([[ 0.0000e+00,  1.0000e+00,  0.0000e+00,  1.0000e+00,  0.0000e+00,\n",
       "          1.0000e+00,  0.0000e+00,  1.0000e+00,  0.0000e+00,  1.0000e+00,\n",
       "          0.0000e+00,  1.0000e+00,  0.0000e+00,  1.0000e+00,  0.0000e+00,\n",
       "          1.0000e+00,  0.0000e+00,  1.0000e+00,  0.0000e+00,  1.0000e+00,\n",
       "          0.0000e+00,  1.0000e+00,  0.0000e+00,  1.0000e+00,  0.0000e+00,\n",
       "          1.0000e+00,  0.0000e+00,  1.0000e+00,  0.0000e+00,  1.0000e+00],\n",
       "        [ 8.4147e-01,  5.4030e-01,  5.1514e-01,  8.5711e-01,  2.8870e-01,\n",
       "          9.5742e-01,  1.5783e-01,  9.8747e-01,  8.5664e-02,  9.9632e-01,\n",
       "          4.6399e-02,  9.9892e-01,  2.5116e-02,  9.9968e-01,  1.3593e-02,\n",
       "          9.9991e-01,  7.3564e-03,  9.9997e-01,  3.9811e-03,  9.9999e-01,\n",
       "          2.1544e-03,  1.0000e+00,  1.1659e-03,  1.0000e+00,  6.3096e-04,\n",
       "          1.0000e+00,  3.4145e-04,  1.0000e+00,  1.8478e-04,  1.0000e+00],\n",
       "        [ 9.0930e-01, -4.1615e-01,  8.8306e-01,  4.6926e-01,  5.5281e-01,\n",
       "          8.3331e-01,  3.1170e-01,  9.5018e-01,  1.7070e-01,  9.8532e-01,\n",
       "          9.2698e-02,  9.9569e-01,  5.0217e-02,  9.9874e-01,  2.7184e-02,\n",
       "          9.9963e-01,  1.4712e-02,  9.9989e-01,  7.9621e-03,  9.9997e-01,\n",
       "          4.3089e-03,  9.9999e-01,  2.3318e-03,  1.0000e+00,  1.2619e-03,\n",
       "          1.0000e+00,  6.8291e-04,  1.0000e+00,  3.6957e-04,  1.0000e+00],\n",
       "        [ 1.4112e-01, -9.8999e-01,  9.9861e-01, -5.2688e-02,  7.6984e-01,\n",
       "          6.3823e-01,  4.5775e-01,  8.8908e-01,  2.5448e-01,  9.6708e-01,\n",
       "          1.3880e-01,  9.9032e-01,  7.5285e-02,  9.9716e-01,  4.0769e-02,\n",
       "          9.9917e-01,  2.2067e-02,  9.9976e-01,  1.1943e-02,  9.9993e-01,\n",
       "          6.4633e-03,  9.9998e-01,  3.4977e-03,  9.9999e-01,  1.8929e-03,\n",
       "          1.0000e+00,  1.0244e-03,  1.0000e+00,  5.5435e-04,  1.0000e+00],\n",
       "        [-7.5680e-01, -6.5364e-01,  8.2877e-01, -5.5958e-01,  9.2132e-01,\n",
       "          3.8881e-01,  5.9234e-01,  8.0569e-01,  3.3639e-01,  9.4172e-01,\n",
       "          1.8460e-01,  9.8281e-01,  1.0031e-01,  9.9496e-01,  5.4347e-02,\n",
       "          9.9852e-01,  2.9421e-02,  9.9957e-01,  1.5924e-02,  9.9987e-01,\n",
       "          8.6176e-03,  9.9996e-01,  4.6636e-03,  9.9999e-01,  2.5238e-03,\n",
       "          1.0000e+00,  1.3658e-03,  1.0000e+00,  7.3914e-04,  1.0000e+00]],\n",
       "       device='mps:0')"
      ]
     },
     "execution_count": 8,
     "metadata": {},
     "output_type": "execute_result"
    }
   ],
   "source": [
    "pe_check"
   ]
  },
  {
   "cell_type": "code",
   "execution_count": 19,
   "metadata": {},
   "outputs": [
    {
     "data": {
      "application/vnd.plotly.v1+json": {
       "config": {
        "plotlyServerURL": "https://plot.ly"
       },
       "data": [
        {
         "coloraxis": "coloraxis",
         "hovertemplate": "x: %{x}<br>y: %{y}<br>color: %{z}<extra></extra>",
         "name": "0",
         "type": "heatmap",
         "xaxis": "x",
         "yaxis": "y",
         "z": [
          [
           0,
           1,
           0,
           1,
           0,
           1,
           0,
           1,
           0,
           1,
           0,
           1,
           0,
           1,
           0,
           1,
           0,
           1,
           0,
           1,
           0,
           1,
           0,
           1,
           0,
           1,
           0,
           1,
           0,
           1
          ],
          [
           0.8414710164070129,
           0.5403023362159729,
           0.5151387453079224,
           0.8571068048477173,
           0.28869590163230896,
           0.957420825958252,
           0.15782666206359863,
           0.9874668121337891,
           0.08566445857286453,
           0.9963240623474121,
           0.04639922082424164,
           0.9989230036735535,
           0.025116220116615295,
           0.9996845126152039,
           0.013593144714832306,
           0.9999076128005981,
           0.007356354966759682,
           0.999972939491272,
           0.0039810603484511375,
           0.9999920725822449,
           0.0021544327028095722,
           0.9999976754188538,
           0.0011659140000119805,
           0.9999993443489075,
           0.0006309572490863502,
           0.9999998211860657,
           0.0003414548991713673,
           0.9999999403953552,
           0.00018478497804608196,
           1
          ],
          [
           0.9092974066734314,
           -0.4161468744277954,
           0.8830578923225403,
           0.46926411986351013,
           0.5528069734573364,
           0.8333093523979187,
           0.31169718503952026,
           0.9501814842224121,
           0.1706991195678711,
           0.9853231906890869,
           0.09269849210977554,
           0.9956942200660706,
           0.05021659657359123,
           0.9987383484840393,
           0.02718377858400345,
           0.9996304512023926,
           0.014712312258780003,
           0.9998917579650879,
           0.007962057366967201,
           0.9999682903289795,
           0.004308855161070824,
           0.999990701675415,
           0.0023318263702094555,
           0.9999972581863403,
           0.0012619142653420568,
           0.9999992251396179,
           0.0006829097401350737,
           0.9999997615814209,
           0.0003695699560921639,
           0.9999999403953552
          ],
          [
           0.14112001657485962,
           -0.9899924993515015,
           0.9986110329627991,
           -0.052687957882881165,
           0.7698418498039246,
           0.6382346749305725,
           0.45775455236434937,
           0.8890786170959473,
           0.2544788122177124,
           0.9670783281326294,
           0.1387980729341507,
           0.9903206825256348,
           0.07528529316186905,
           0.9971620440483093,
           0.040769390761852264,
           0.9991685748100281,
           0.022067472338676453,
           0.9997564554214478,
           0.011942929588258266,
           0.9999286532402039,
           0.006463257130235434,
           0.9999791383743286,
           0.003497735597193241,
           0.9999938607215881,
           0.0018928704084828496,
           0.9999982118606567,
           0.0010243644937872887,
           0.999999463558197,
           0.0005543548613786697,
           0.9999998211860657
          ],
          [
           -0.756802499294281,
           -0.6536436676979065,
           0.8287747502326965,
           -0.5595823526382446,
           0.9213183522224426,
           0.38880905508995056,
           0.5923377871513367,
           0.8056897521018982,
           0.33638763427734375,
           0.941723644733429,
           0.18459872901439667,
           0.9828139543533325,
           0.10030648857355118,
           0.9949566125869751,
           0.05434746667742729,
           0.9985221028327942,
           0.02942143939435482,
           0.9995670914649963,
           0.01592360995709896,
           0.9998732209205627,
           0.008617631159722805,
           0.9999628663063049,
           0.004663640167564154,
           0.9999891519546509,
           0.0025238264352083206,
           0.9999968409538269,
           0.0013658191310241818,
           0.9999990463256836,
           0.0007391398539766669,
           0.9999997019767761
          ]
         ]
        }
       ],
       "layout": {
        "coloraxis": {
         "colorscale": [
          [
           0,
           "#0d0887"
          ],
          [
           0.1111111111111111,
           "#46039f"
          ],
          [
           0.2222222222222222,
           "#7201a8"
          ],
          [
           0.3333333333333333,
           "#9c179e"
          ],
          [
           0.4444444444444444,
           "#bd3786"
          ],
          [
           0.5555555555555556,
           "#d8576b"
          ],
          [
           0.6666666666666666,
           "#ed7953"
          ],
          [
           0.7777777777777778,
           "#fb9f3a"
          ],
          [
           0.8888888888888888,
           "#fdca26"
          ],
          [
           1,
           "#f0f921"
          ]
         ]
        },
        "height": 400,
        "margin": {
         "t": 60
        },
        "template": {
         "data": {
          "bar": [
           {
            "error_x": {
             "color": "#2a3f5f"
            },
            "error_y": {
             "color": "#2a3f5f"
            },
            "marker": {
             "line": {
              "color": "#E5ECF6",
              "width": 0.5
             },
             "pattern": {
              "fillmode": "overlay",
              "size": 10,
              "solidity": 0.2
             }
            },
            "type": "bar"
           }
          ],
          "barpolar": [
           {
            "marker": {
             "line": {
              "color": "#E5ECF6",
              "width": 0.5
             },
             "pattern": {
              "fillmode": "overlay",
              "size": 10,
              "solidity": 0.2
             }
            },
            "type": "barpolar"
           }
          ],
          "carpet": [
           {
            "aaxis": {
             "endlinecolor": "#2a3f5f",
             "gridcolor": "white",
             "linecolor": "white",
             "minorgridcolor": "white",
             "startlinecolor": "#2a3f5f"
            },
            "baxis": {
             "endlinecolor": "#2a3f5f",
             "gridcolor": "white",
             "linecolor": "white",
             "minorgridcolor": "white",
             "startlinecolor": "#2a3f5f"
            },
            "type": "carpet"
           }
          ],
          "choropleth": [
           {
            "colorbar": {
             "outlinewidth": 0,
             "ticks": ""
            },
            "type": "choropleth"
           }
          ],
          "contour": [
           {
            "colorbar": {
             "outlinewidth": 0,
             "ticks": ""
            },
            "colorscale": [
             [
              0,
              "#0d0887"
             ],
             [
              0.1111111111111111,
              "#46039f"
             ],
             [
              0.2222222222222222,
              "#7201a8"
             ],
             [
              0.3333333333333333,
              "#9c179e"
             ],
             [
              0.4444444444444444,
              "#bd3786"
             ],
             [
              0.5555555555555556,
              "#d8576b"
             ],
             [
              0.6666666666666666,
              "#ed7953"
             ],
             [
              0.7777777777777778,
              "#fb9f3a"
             ],
             [
              0.8888888888888888,
              "#fdca26"
             ],
             [
              1,
              "#f0f921"
             ]
            ],
            "type": "contour"
           }
          ],
          "contourcarpet": [
           {
            "colorbar": {
             "outlinewidth": 0,
             "ticks": ""
            },
            "type": "contourcarpet"
           }
          ],
          "heatmap": [
           {
            "colorbar": {
             "outlinewidth": 0,
             "ticks": ""
            },
            "colorscale": [
             [
              0,
              "#0d0887"
             ],
             [
              0.1111111111111111,
              "#46039f"
             ],
             [
              0.2222222222222222,
              "#7201a8"
             ],
             [
              0.3333333333333333,
              "#9c179e"
             ],
             [
              0.4444444444444444,
              "#bd3786"
             ],
             [
              0.5555555555555556,
              "#d8576b"
             ],
             [
              0.6666666666666666,
              "#ed7953"
             ],
             [
              0.7777777777777778,
              "#fb9f3a"
             ],
             [
              0.8888888888888888,
              "#fdca26"
             ],
             [
              1,
              "#f0f921"
             ]
            ],
            "type": "heatmap"
           }
          ],
          "heatmapgl": [
           {
            "colorbar": {
             "outlinewidth": 0,
             "ticks": ""
            },
            "colorscale": [
             [
              0,
              "#0d0887"
             ],
             [
              0.1111111111111111,
              "#46039f"
             ],
             [
              0.2222222222222222,
              "#7201a8"
             ],
             [
              0.3333333333333333,
              "#9c179e"
             ],
             [
              0.4444444444444444,
              "#bd3786"
             ],
             [
              0.5555555555555556,
              "#d8576b"
             ],
             [
              0.6666666666666666,
              "#ed7953"
             ],
             [
              0.7777777777777778,
              "#fb9f3a"
             ],
             [
              0.8888888888888888,
              "#fdca26"
             ],
             [
              1,
              "#f0f921"
             ]
            ],
            "type": "heatmapgl"
           }
          ],
          "histogram": [
           {
            "marker": {
             "pattern": {
              "fillmode": "overlay",
              "size": 10,
              "solidity": 0.2
             }
            },
            "type": "histogram"
           }
          ],
          "histogram2d": [
           {
            "colorbar": {
             "outlinewidth": 0,
             "ticks": ""
            },
            "colorscale": [
             [
              0,
              "#0d0887"
             ],
             [
              0.1111111111111111,
              "#46039f"
             ],
             [
              0.2222222222222222,
              "#7201a8"
             ],
             [
              0.3333333333333333,
              "#9c179e"
             ],
             [
              0.4444444444444444,
              "#bd3786"
             ],
             [
              0.5555555555555556,
              "#d8576b"
             ],
             [
              0.6666666666666666,
              "#ed7953"
             ],
             [
              0.7777777777777778,
              "#fb9f3a"
             ],
             [
              0.8888888888888888,
              "#fdca26"
             ],
             [
              1,
              "#f0f921"
             ]
            ],
            "type": "histogram2d"
           }
          ],
          "histogram2dcontour": [
           {
            "colorbar": {
             "outlinewidth": 0,
             "ticks": ""
            },
            "colorscale": [
             [
              0,
              "#0d0887"
             ],
             [
              0.1111111111111111,
              "#46039f"
             ],
             [
              0.2222222222222222,
              "#7201a8"
             ],
             [
              0.3333333333333333,
              "#9c179e"
             ],
             [
              0.4444444444444444,
              "#bd3786"
             ],
             [
              0.5555555555555556,
              "#d8576b"
             ],
             [
              0.6666666666666666,
              "#ed7953"
             ],
             [
              0.7777777777777778,
              "#fb9f3a"
             ],
             [
              0.8888888888888888,
              "#fdca26"
             ],
             [
              1,
              "#f0f921"
             ]
            ],
            "type": "histogram2dcontour"
           }
          ],
          "mesh3d": [
           {
            "colorbar": {
             "outlinewidth": 0,
             "ticks": ""
            },
            "type": "mesh3d"
           }
          ],
          "parcoords": [
           {
            "line": {
             "colorbar": {
              "outlinewidth": 0,
              "ticks": ""
             }
            },
            "type": "parcoords"
           }
          ],
          "pie": [
           {
            "automargin": true,
            "type": "pie"
           }
          ],
          "scatter": [
           {
            "fillpattern": {
             "fillmode": "overlay",
             "size": 10,
             "solidity": 0.2
            },
            "type": "scatter"
           }
          ],
          "scatter3d": [
           {
            "line": {
             "colorbar": {
              "outlinewidth": 0,
              "ticks": ""
             }
            },
            "marker": {
             "colorbar": {
              "outlinewidth": 0,
              "ticks": ""
             }
            },
            "type": "scatter3d"
           }
          ],
          "scattercarpet": [
           {
            "marker": {
             "colorbar": {
              "outlinewidth": 0,
              "ticks": ""
             }
            },
            "type": "scattercarpet"
           }
          ],
          "scattergeo": [
           {
            "marker": {
             "colorbar": {
              "outlinewidth": 0,
              "ticks": ""
             }
            },
            "type": "scattergeo"
           }
          ],
          "scattergl": [
           {
            "marker": {
             "colorbar": {
              "outlinewidth": 0,
              "ticks": ""
             }
            },
            "type": "scattergl"
           }
          ],
          "scattermapbox": [
           {
            "marker": {
             "colorbar": {
              "outlinewidth": 0,
              "ticks": ""
             }
            },
            "type": "scattermapbox"
           }
          ],
          "scatterpolar": [
           {
            "marker": {
             "colorbar": {
              "outlinewidth": 0,
              "ticks": ""
             }
            },
            "type": "scatterpolar"
           }
          ],
          "scatterpolargl": [
           {
            "marker": {
             "colorbar": {
              "outlinewidth": 0,
              "ticks": ""
             }
            },
            "type": "scatterpolargl"
           }
          ],
          "scatterternary": [
           {
            "marker": {
             "colorbar": {
              "outlinewidth": 0,
              "ticks": ""
             }
            },
            "type": "scatterternary"
           }
          ],
          "surface": [
           {
            "colorbar": {
             "outlinewidth": 0,
             "ticks": ""
            },
            "colorscale": [
             [
              0,
              "#0d0887"
             ],
             [
              0.1111111111111111,
              "#46039f"
             ],
             [
              0.2222222222222222,
              "#7201a8"
             ],
             [
              0.3333333333333333,
              "#9c179e"
             ],
             [
              0.4444444444444444,
              "#bd3786"
             ],
             [
              0.5555555555555556,
              "#d8576b"
             ],
             [
              0.6666666666666666,
              "#ed7953"
             ],
             [
              0.7777777777777778,
              "#fb9f3a"
             ],
             [
              0.8888888888888888,
              "#fdca26"
             ],
             [
              1,
              "#f0f921"
             ]
            ],
            "type": "surface"
           }
          ],
          "table": [
           {
            "cells": {
             "fill": {
              "color": "#EBF0F8"
             },
             "line": {
              "color": "white"
             }
            },
            "header": {
             "fill": {
              "color": "#C8D4E3"
             },
             "line": {
              "color": "white"
             }
            },
            "type": "table"
           }
          ]
         },
         "layout": {
          "annotationdefaults": {
           "arrowcolor": "#2a3f5f",
           "arrowhead": 0,
           "arrowwidth": 1
          },
          "autotypenumbers": "strict",
          "coloraxis": {
           "colorbar": {
            "outlinewidth": 0,
            "ticks": ""
           }
          },
          "colorscale": {
           "diverging": [
            [
             0,
             "#8e0152"
            ],
            [
             0.1,
             "#c51b7d"
            ],
            [
             0.2,
             "#de77ae"
            ],
            [
             0.3,
             "#f1b6da"
            ],
            [
             0.4,
             "#fde0ef"
            ],
            [
             0.5,
             "#f7f7f7"
            ],
            [
             0.6,
             "#e6f5d0"
            ],
            [
             0.7,
             "#b8e186"
            ],
            [
             0.8,
             "#7fbc41"
            ],
            [
             0.9,
             "#4d9221"
            ],
            [
             1,
             "#276419"
            ]
           ],
           "sequential": [
            [
             0,
             "#0d0887"
            ],
            [
             0.1111111111111111,
             "#46039f"
            ],
            [
             0.2222222222222222,
             "#7201a8"
            ],
            [
             0.3333333333333333,
             "#9c179e"
            ],
            [
             0.4444444444444444,
             "#bd3786"
            ],
            [
             0.5555555555555556,
             "#d8576b"
            ],
            [
             0.6666666666666666,
             "#ed7953"
            ],
            [
             0.7777777777777778,
             "#fb9f3a"
            ],
            [
             0.8888888888888888,
             "#fdca26"
            ],
            [
             1,
             "#f0f921"
            ]
           ],
           "sequentialminus": [
            [
             0,
             "#0d0887"
            ],
            [
             0.1111111111111111,
             "#46039f"
            ],
            [
             0.2222222222222222,
             "#7201a8"
            ],
            [
             0.3333333333333333,
             "#9c179e"
            ],
            [
             0.4444444444444444,
             "#bd3786"
            ],
            [
             0.5555555555555556,
             "#d8576b"
            ],
            [
             0.6666666666666666,
             "#ed7953"
            ],
            [
             0.7777777777777778,
             "#fb9f3a"
            ],
            [
             0.8888888888888888,
             "#fdca26"
            ],
            [
             1,
             "#f0f921"
            ]
           ]
          },
          "colorway": [
           "#636efa",
           "#EF553B",
           "#00cc96",
           "#ab63fa",
           "#FFA15A",
           "#19d3f3",
           "#FF6692",
           "#B6E880",
           "#FF97FF",
           "#FECB52"
          ],
          "font": {
           "color": "#2a3f5f"
          },
          "geo": {
           "bgcolor": "white",
           "lakecolor": "white",
           "landcolor": "#E5ECF6",
           "showlakes": true,
           "showland": true,
           "subunitcolor": "white"
          },
          "hoverlabel": {
           "align": "left"
          },
          "hovermode": "closest",
          "mapbox": {
           "style": "light"
          },
          "paper_bgcolor": "white",
          "plot_bgcolor": "#E5ECF6",
          "polar": {
           "angularaxis": {
            "gridcolor": "white",
            "linecolor": "white",
            "ticks": ""
           },
           "bgcolor": "#E5ECF6",
           "radialaxis": {
            "gridcolor": "white",
            "linecolor": "white",
            "ticks": ""
           }
          },
          "scene": {
           "xaxis": {
            "backgroundcolor": "#E5ECF6",
            "gridcolor": "white",
            "gridwidth": 2,
            "linecolor": "white",
            "showbackground": true,
            "ticks": "",
            "zerolinecolor": "white"
           },
           "yaxis": {
            "backgroundcolor": "#E5ECF6",
            "gridcolor": "white",
            "gridwidth": 2,
            "linecolor": "white",
            "showbackground": true,
            "ticks": "",
            "zerolinecolor": "white"
           },
           "zaxis": {
            "backgroundcolor": "#E5ECF6",
            "gridcolor": "white",
            "gridwidth": 2,
            "linecolor": "white",
            "showbackground": true,
            "ticks": "",
            "zerolinecolor": "white"
           }
          },
          "shapedefaults": {
           "line": {
            "color": "#2a3f5f"
           }
          },
          "ternary": {
           "aaxis": {
            "gridcolor": "white",
            "linecolor": "white",
            "ticks": ""
           },
           "baxis": {
            "gridcolor": "white",
            "linecolor": "white",
            "ticks": ""
           },
           "bgcolor": "#E5ECF6",
           "caxis": {
            "gridcolor": "white",
            "linecolor": "white",
            "ticks": ""
           }
          },
          "title": {
           "x": 0.05
          },
          "xaxis": {
           "automargin": true,
           "gridcolor": "white",
           "linecolor": "white",
           "ticks": "",
           "title": {
            "standoff": 15
           },
           "zerolinecolor": "white",
           "zerolinewidth": 2
          },
          "yaxis": {
           "automargin": true,
           "gridcolor": "white",
           "linecolor": "white",
           "ticks": "",
           "title": {
            "standoff": 15
           },
           "zerolinecolor": "white",
           "zerolinewidth": 2
          }
         }
        },
        "width": 1100,
        "xaxis": {
         "anchor": "y",
         "domain": [
          0,
          1
         ],
         "title": {
          "font": {
           "color": "black",
           "family": "Courier",
           "size": 30
          },
          "text": "Pos"
         }
        },
        "yaxis": {
         "anchor": "x",
         "autorange": "reversed",
         "domain": [
          0,
          1
         ],
         "title": {
          "font": {
           "color": "black",
           "family": "Courier",
           "size": 30
          },
          "text": "i"
         }
        }
       }
      }
     },
     "metadata": {},
     "output_type": "display_data"
    }
   ],
   "source": [
    "import plotly.express as px\n",
    "\n",
    "fig = px.imshow(pe_check.cpu(), aspect=\"auto\")\n",
    "\n",
    "fig.update_xaxes(title_text='Pos')\n",
    "fig.update_yaxes(title_text='i')\n",
    "fig.update_xaxes(title_font_size =30,\n",
    "                title_font_color='black',\n",
    "                title_font_family='Courier')\n",
    "fig.update_yaxes(title_font_size =30,\n",
    "                title_font_color='black',\n",
    "                title_font_family='Courier',\n",
    "                )\n",
    "fig.update_layout(width=1100,height=400)\n",
    "fig.show()"
   ]
  },
  {
   "cell_type": "code",
   "execution_count": null,
   "metadata": {},
   "outputs": [],
   "source": []
  }
 ],
 "metadata": {
  "kernelspec": {
   "display_name": "Torch_practice",
   "language": "python",
   "name": "python3"
  },
  "language_info": {
   "codemirror_mode": {
    "name": "ipython",
    "version": 3
   },
   "file_extension": ".py",
   "mimetype": "text/x-python",
   "name": "python",
   "nbconvert_exporter": "python",
   "pygments_lexer": "ipython3",
   "version": "3.10.0"
  }
 },
 "nbformat": 4,
 "nbformat_minor": 2
}
